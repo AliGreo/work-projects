{
  "nbformat": 4,
  "nbformat_minor": 0,
  "metadata": {
    "colab": {
      "provenance": [],
      "collapsed_sections": [
        "re__isRr1GMR",
        "EzNWmJQlShs9",
        "DEprB5d-x5je",
        "D2ViP07mKVzc"
      ],
      "authorship_tag": "ABX9TyOddTkVt7Lgu/8wkZxMPeSr",
      "include_colab_link": true
    },
    "kernelspec": {
      "name": "python3",
      "display_name": "Python 3"
    },
    "language_info": {
      "name": "python"
    }
  },
  "cells": [
    {
      "cell_type": "markdown",
      "metadata": {
        "id": "view-in-github",
        "colab_type": "text"
      },
      "source": [
        "<a href=\"https://colab.research.google.com/github/Aligreu/work-projects/blob/main/churn_dataset.ipynb\" target=\"_parent\"><img src=\"https://colab.research.google.com/assets/colab-badge.svg\" alt=\"Open In Colab\"/></a>"
      ]
    },
    {
      "cell_type": "code",
      "execution_count": 1,
      "metadata": {
        "id": "HW4fdlc8tt6m"
      },
      "outputs": [],
      "source": [
        "#pandas : data analysis\n",
        "# numpy : array & matrix\n",
        "# seaborn & matplotlib : data visualization\n",
        "# scikit-learn : machine learning"
      ]
    },
    {
      "cell_type": "code",
      "source": [
        "import pandas as pd\n",
        "import numpy as np\n",
        "import seaborn as sns\n",
        "import matplotlib.pyplot as plt\n",
        "import sklearn\n",
        "from sklearn import preprocessing\n",
        "from sklearn.preprocessing import StandardScaler"
      ],
      "metadata": {
        "id": "4F1cK2FIvuKr"
      },
      "execution_count": 2,
      "outputs": []
    },
    {
      "cell_type": "markdown",
      "source": [
        "### *1- Import data*\n",
        "### *2- Explore data*\n",
        "### *3- EDA : exploratory data analysis*\n",
        "### *4- Data Preprocessing*\n",
        "### *5- Algorithm selection : Model training*\n",
        "### *6- Model Evaluation*"
      ],
      "metadata": {
        "id": "uuQFwR0Pw4ge"
      }
    },
    {
      "cell_type": "code",
      "source": [
        "!unzip /content/churn_dataset.zip"
      ],
      "metadata": {
        "colab": {
          "base_uri": "https://localhost:8080/"
        },
        "id": "r7C2dP-QxKhE",
        "outputId": "59e77967-57c2-46a4-dcbc-f2fa869f1273"
      },
      "execution_count": 3,
      "outputs": [
        {
          "output_type": "stream",
          "name": "stdout",
          "text": [
            "Archive:  /content/churn_dataset.zip\n",
            "replace Customer-Churn-Records.csv? [y]es, [n]o, [A]ll, [N]one, [r]ename: "
          ]
        }
      ]
    },
    {
      "cell_type": "code",
      "source": [
        "# read the file\n",
        "\n",
        "data = pd.read_csv(\"/content/Customer-Churn-Records.csv\")"
      ],
      "metadata": {
        "id": "QxyU77dpyVtw"
      },
      "execution_count": 4,
      "outputs": []
    },
    {
      "cell_type": "code",
      "source": [
        "data.head()"
      ],
      "metadata": {
        "colab": {
          "base_uri": "https://localhost:8080/",
          "height": 250
        },
        "id": "L_q_A5ihyx9A",
        "outputId": "f033ed2e-3e13-41ee-8a0d-aeb5a974cecf"
      },
      "execution_count": 5,
      "outputs": [
        {
          "output_type": "execute_result",
          "data": {
            "text/plain": [
              "   RowNumber  CustomerId   Surname  CreditScore Geography  Gender  Age  \\\n",
              "0          1    15634602  Hargrave          619    France  Female   42   \n",
              "1          2    15647311      Hill          608     Spain  Female   41   \n",
              "2          3    15619304      Onio          502    France  Female   42   \n",
              "3          4    15701354      Boni          699    France  Female   39   \n",
              "4          5    15737888  Mitchell          850     Spain  Female   43   \n",
              "\n",
              "   Tenure    Balance  NumOfProducts  HasCrCard  IsActiveMember  \\\n",
              "0       2       0.00              1          1               1   \n",
              "1       1   83807.86              1          0               1   \n",
              "2       8  159660.80              3          1               0   \n",
              "3       1       0.00              2          0               0   \n",
              "4       2  125510.82              1          1               1   \n",
              "\n",
              "   EstimatedSalary  Exited  Complain  Satisfaction Score Card Type  \\\n",
              "0        101348.88       1         1                   2   DIAMOND   \n",
              "1        112542.58       0         1                   3   DIAMOND   \n",
              "2        113931.57       1         1                   3   DIAMOND   \n",
              "3         93826.63       0         0                   5      GOLD   \n",
              "4         79084.10       0         0                   5      GOLD   \n",
              "\n",
              "   Point Earned  \n",
              "0           464  \n",
              "1           456  \n",
              "2           377  \n",
              "3           350  \n",
              "4           425  "
            ],
            "text/html": [
              "\n",
              "  <div id=\"df-25e7baa7-e82d-46c7-8b50-877192e9cf3c\">\n",
              "    <div class=\"colab-df-container\">\n",
              "      <div>\n",
              "<style scoped>\n",
              "    .dataframe tbody tr th:only-of-type {\n",
              "        vertical-align: middle;\n",
              "    }\n",
              "\n",
              "    .dataframe tbody tr th {\n",
              "        vertical-align: top;\n",
              "    }\n",
              "\n",
              "    .dataframe thead th {\n",
              "        text-align: right;\n",
              "    }\n",
              "</style>\n",
              "<table border=\"1\" class=\"dataframe\">\n",
              "  <thead>\n",
              "    <tr style=\"text-align: right;\">\n",
              "      <th></th>\n",
              "      <th>RowNumber</th>\n",
              "      <th>CustomerId</th>\n",
              "      <th>Surname</th>\n",
              "      <th>CreditScore</th>\n",
              "      <th>Geography</th>\n",
              "      <th>Gender</th>\n",
              "      <th>Age</th>\n",
              "      <th>Tenure</th>\n",
              "      <th>Balance</th>\n",
              "      <th>NumOfProducts</th>\n",
              "      <th>HasCrCard</th>\n",
              "      <th>IsActiveMember</th>\n",
              "      <th>EstimatedSalary</th>\n",
              "      <th>Exited</th>\n",
              "      <th>Complain</th>\n",
              "      <th>Satisfaction Score</th>\n",
              "      <th>Card Type</th>\n",
              "      <th>Point Earned</th>\n",
              "    </tr>\n",
              "  </thead>\n",
              "  <tbody>\n",
              "    <tr>\n",
              "      <th>0</th>\n",
              "      <td>1</td>\n",
              "      <td>15634602</td>\n",
              "      <td>Hargrave</td>\n",
              "      <td>619</td>\n",
              "      <td>France</td>\n",
              "      <td>Female</td>\n",
              "      <td>42</td>\n",
              "      <td>2</td>\n",
              "      <td>0.00</td>\n",
              "      <td>1</td>\n",
              "      <td>1</td>\n",
              "      <td>1</td>\n",
              "      <td>101348.88</td>\n",
              "      <td>1</td>\n",
              "      <td>1</td>\n",
              "      <td>2</td>\n",
              "      <td>DIAMOND</td>\n",
              "      <td>464</td>\n",
              "    </tr>\n",
              "    <tr>\n",
              "      <th>1</th>\n",
              "      <td>2</td>\n",
              "      <td>15647311</td>\n",
              "      <td>Hill</td>\n",
              "      <td>608</td>\n",
              "      <td>Spain</td>\n",
              "      <td>Female</td>\n",
              "      <td>41</td>\n",
              "      <td>1</td>\n",
              "      <td>83807.86</td>\n",
              "      <td>1</td>\n",
              "      <td>0</td>\n",
              "      <td>1</td>\n",
              "      <td>112542.58</td>\n",
              "      <td>0</td>\n",
              "      <td>1</td>\n",
              "      <td>3</td>\n",
              "      <td>DIAMOND</td>\n",
              "      <td>456</td>\n",
              "    </tr>\n",
              "    <tr>\n",
              "      <th>2</th>\n",
              "      <td>3</td>\n",
              "      <td>15619304</td>\n",
              "      <td>Onio</td>\n",
              "      <td>502</td>\n",
              "      <td>France</td>\n",
              "      <td>Female</td>\n",
              "      <td>42</td>\n",
              "      <td>8</td>\n",
              "      <td>159660.80</td>\n",
              "      <td>3</td>\n",
              "      <td>1</td>\n",
              "      <td>0</td>\n",
              "      <td>113931.57</td>\n",
              "      <td>1</td>\n",
              "      <td>1</td>\n",
              "      <td>3</td>\n",
              "      <td>DIAMOND</td>\n",
              "      <td>377</td>\n",
              "    </tr>\n",
              "    <tr>\n",
              "      <th>3</th>\n",
              "      <td>4</td>\n",
              "      <td>15701354</td>\n",
              "      <td>Boni</td>\n",
              "      <td>699</td>\n",
              "      <td>France</td>\n",
              "      <td>Female</td>\n",
              "      <td>39</td>\n",
              "      <td>1</td>\n",
              "      <td>0.00</td>\n",
              "      <td>2</td>\n",
              "      <td>0</td>\n",
              "      <td>0</td>\n",
              "      <td>93826.63</td>\n",
              "      <td>0</td>\n",
              "      <td>0</td>\n",
              "      <td>5</td>\n",
              "      <td>GOLD</td>\n",
              "      <td>350</td>\n",
              "    </tr>\n",
              "    <tr>\n",
              "      <th>4</th>\n",
              "      <td>5</td>\n",
              "      <td>15737888</td>\n",
              "      <td>Mitchell</td>\n",
              "      <td>850</td>\n",
              "      <td>Spain</td>\n",
              "      <td>Female</td>\n",
              "      <td>43</td>\n",
              "      <td>2</td>\n",
              "      <td>125510.82</td>\n",
              "      <td>1</td>\n",
              "      <td>1</td>\n",
              "      <td>1</td>\n",
              "      <td>79084.10</td>\n",
              "      <td>0</td>\n",
              "      <td>0</td>\n",
              "      <td>5</td>\n",
              "      <td>GOLD</td>\n",
              "      <td>425</td>\n",
              "    </tr>\n",
              "  </tbody>\n",
              "</table>\n",
              "</div>\n",
              "      <button class=\"colab-df-convert\" onclick=\"convertToInteractive('df-25e7baa7-e82d-46c7-8b50-877192e9cf3c')\"\n",
              "              title=\"Convert this dataframe to an interactive table.\"\n",
              "              style=\"display:none;\">\n",
              "        \n",
              "  <svg xmlns=\"http://www.w3.org/2000/svg\" height=\"24px\"viewBox=\"0 0 24 24\"\n",
              "       width=\"24px\">\n",
              "    <path d=\"M0 0h24v24H0V0z\" fill=\"none\"/>\n",
              "    <path d=\"M18.56 5.44l.94 2.06.94-2.06 2.06-.94-2.06-.94-.94-2.06-.94 2.06-2.06.94zm-11 1L8.5 8.5l.94-2.06 2.06-.94-2.06-.94L8.5 2.5l-.94 2.06-2.06.94zm10 10l.94 2.06.94-2.06 2.06-.94-2.06-.94-.94-2.06-.94 2.06-2.06.94z\"/><path d=\"M17.41 7.96l-1.37-1.37c-.4-.4-.92-.59-1.43-.59-.52 0-1.04.2-1.43.59L10.3 9.45l-7.72 7.72c-.78.78-.78 2.05 0 2.83L4 21.41c.39.39.9.59 1.41.59.51 0 1.02-.2 1.41-.59l7.78-7.78 2.81-2.81c.8-.78.8-2.07 0-2.86zM5.41 20L4 18.59l7.72-7.72 1.47 1.35L5.41 20z\"/>\n",
              "  </svg>\n",
              "      </button>\n",
              "      \n",
              "  <style>\n",
              "    .colab-df-container {\n",
              "      display:flex;\n",
              "      flex-wrap:wrap;\n",
              "      gap: 12px;\n",
              "    }\n",
              "\n",
              "    .colab-df-convert {\n",
              "      background-color: #E8F0FE;\n",
              "      border: none;\n",
              "      border-radius: 50%;\n",
              "      cursor: pointer;\n",
              "      display: none;\n",
              "      fill: #1967D2;\n",
              "      height: 32px;\n",
              "      padding: 0 0 0 0;\n",
              "      width: 32px;\n",
              "    }\n",
              "\n",
              "    .colab-df-convert:hover {\n",
              "      background-color: #E2EBFA;\n",
              "      box-shadow: 0px 1px 2px rgba(60, 64, 67, 0.3), 0px 1px 3px 1px rgba(60, 64, 67, 0.15);\n",
              "      fill: #174EA6;\n",
              "    }\n",
              "\n",
              "    [theme=dark] .colab-df-convert {\n",
              "      background-color: #3B4455;\n",
              "      fill: #D2E3FC;\n",
              "    }\n",
              "\n",
              "    [theme=dark] .colab-df-convert:hover {\n",
              "      background-color: #434B5C;\n",
              "      box-shadow: 0px 1px 3px 1px rgba(0, 0, 0, 0.15);\n",
              "      filter: drop-shadow(0px 1px 2px rgba(0, 0, 0, 0.3));\n",
              "      fill: #FFFFFF;\n",
              "    }\n",
              "  </style>\n",
              "\n",
              "      <script>\n",
              "        const buttonEl =\n",
              "          document.querySelector('#df-25e7baa7-e82d-46c7-8b50-877192e9cf3c button.colab-df-convert');\n",
              "        buttonEl.style.display =\n",
              "          google.colab.kernel.accessAllowed ? 'block' : 'none';\n",
              "\n",
              "        async function convertToInteractive(key) {\n",
              "          const element = document.querySelector('#df-25e7baa7-e82d-46c7-8b50-877192e9cf3c');\n",
              "          const dataTable =\n",
              "            await google.colab.kernel.invokeFunction('convertToInteractive',\n",
              "                                                     [key], {});\n",
              "          if (!dataTable) return;\n",
              "\n",
              "          const docLinkHtml = 'Like what you see? Visit the ' +\n",
              "            '<a target=\"_blank\" href=https://colab.research.google.com/notebooks/data_table.ipynb>data table notebook</a>'\n",
              "            + ' to learn more about interactive tables.';\n",
              "          element.innerHTML = '';\n",
              "          dataTable['output_type'] = 'display_data';\n",
              "          await google.colab.output.renderOutput(dataTable, element);\n",
              "          const docLink = document.createElement('div');\n",
              "          docLink.innerHTML = docLinkHtml;\n",
              "          element.appendChild(docLink);\n",
              "        }\n",
              "      </script>\n",
              "    </div>\n",
              "  </div>\n",
              "  "
            ]
          },
          "metadata": {},
          "execution_count": 5
        }
      ]
    },
    {
      "cell_type": "code",
      "source": [
        "data_new = data.drop(['RowNumber','CustomerId','Surname'],axis=1)"
      ],
      "metadata": {
        "id": "yHCKpAoIz_na"
      },
      "execution_count": 6,
      "outputs": []
    },
    {
      "cell_type": "code",
      "source": [
        "data_new.head()"
      ],
      "metadata": {
        "colab": {
          "base_uri": "https://localhost:8080/",
          "height": 206
        },
        "id": "4qNy_s9u09Nx",
        "outputId": "c4803447-fa1a-4aee-eeed-826981541896"
      },
      "execution_count": 7,
      "outputs": [
        {
          "output_type": "execute_result",
          "data": {
            "text/plain": [
              "   CreditScore Geography  Gender  Age  Tenure    Balance  NumOfProducts  \\\n",
              "0          619    France  Female   42       2       0.00              1   \n",
              "1          608     Spain  Female   41       1   83807.86              1   \n",
              "2          502    France  Female   42       8  159660.80              3   \n",
              "3          699    France  Female   39       1       0.00              2   \n",
              "4          850     Spain  Female   43       2  125510.82              1   \n",
              "\n",
              "   HasCrCard  IsActiveMember  EstimatedSalary  Exited  Complain  \\\n",
              "0          1               1        101348.88       1         1   \n",
              "1          0               1        112542.58       0         1   \n",
              "2          1               0        113931.57       1         1   \n",
              "3          0               0         93826.63       0         0   \n",
              "4          1               1         79084.10       0         0   \n",
              "\n",
              "   Satisfaction Score Card Type  Point Earned  \n",
              "0                   2   DIAMOND           464  \n",
              "1                   3   DIAMOND           456  \n",
              "2                   3   DIAMOND           377  \n",
              "3                   5      GOLD           350  \n",
              "4                   5      GOLD           425  "
            ],
            "text/html": [
              "\n",
              "  <div id=\"df-f6a51706-e6dd-4ea5-b85e-d0fb00de9aa4\">\n",
              "    <div class=\"colab-df-container\">\n",
              "      <div>\n",
              "<style scoped>\n",
              "    .dataframe tbody tr th:only-of-type {\n",
              "        vertical-align: middle;\n",
              "    }\n",
              "\n",
              "    .dataframe tbody tr th {\n",
              "        vertical-align: top;\n",
              "    }\n",
              "\n",
              "    .dataframe thead th {\n",
              "        text-align: right;\n",
              "    }\n",
              "</style>\n",
              "<table border=\"1\" class=\"dataframe\">\n",
              "  <thead>\n",
              "    <tr style=\"text-align: right;\">\n",
              "      <th></th>\n",
              "      <th>CreditScore</th>\n",
              "      <th>Geography</th>\n",
              "      <th>Gender</th>\n",
              "      <th>Age</th>\n",
              "      <th>Tenure</th>\n",
              "      <th>Balance</th>\n",
              "      <th>NumOfProducts</th>\n",
              "      <th>HasCrCard</th>\n",
              "      <th>IsActiveMember</th>\n",
              "      <th>EstimatedSalary</th>\n",
              "      <th>Exited</th>\n",
              "      <th>Complain</th>\n",
              "      <th>Satisfaction Score</th>\n",
              "      <th>Card Type</th>\n",
              "      <th>Point Earned</th>\n",
              "    </tr>\n",
              "  </thead>\n",
              "  <tbody>\n",
              "    <tr>\n",
              "      <th>0</th>\n",
              "      <td>619</td>\n",
              "      <td>France</td>\n",
              "      <td>Female</td>\n",
              "      <td>42</td>\n",
              "      <td>2</td>\n",
              "      <td>0.00</td>\n",
              "      <td>1</td>\n",
              "      <td>1</td>\n",
              "      <td>1</td>\n",
              "      <td>101348.88</td>\n",
              "      <td>1</td>\n",
              "      <td>1</td>\n",
              "      <td>2</td>\n",
              "      <td>DIAMOND</td>\n",
              "      <td>464</td>\n",
              "    </tr>\n",
              "    <tr>\n",
              "      <th>1</th>\n",
              "      <td>608</td>\n",
              "      <td>Spain</td>\n",
              "      <td>Female</td>\n",
              "      <td>41</td>\n",
              "      <td>1</td>\n",
              "      <td>83807.86</td>\n",
              "      <td>1</td>\n",
              "      <td>0</td>\n",
              "      <td>1</td>\n",
              "      <td>112542.58</td>\n",
              "      <td>0</td>\n",
              "      <td>1</td>\n",
              "      <td>3</td>\n",
              "      <td>DIAMOND</td>\n",
              "      <td>456</td>\n",
              "    </tr>\n",
              "    <tr>\n",
              "      <th>2</th>\n",
              "      <td>502</td>\n",
              "      <td>France</td>\n",
              "      <td>Female</td>\n",
              "      <td>42</td>\n",
              "      <td>8</td>\n",
              "      <td>159660.80</td>\n",
              "      <td>3</td>\n",
              "      <td>1</td>\n",
              "      <td>0</td>\n",
              "      <td>113931.57</td>\n",
              "      <td>1</td>\n",
              "      <td>1</td>\n",
              "      <td>3</td>\n",
              "      <td>DIAMOND</td>\n",
              "      <td>377</td>\n",
              "    </tr>\n",
              "    <tr>\n",
              "      <th>3</th>\n",
              "      <td>699</td>\n",
              "      <td>France</td>\n",
              "      <td>Female</td>\n",
              "      <td>39</td>\n",
              "      <td>1</td>\n",
              "      <td>0.00</td>\n",
              "      <td>2</td>\n",
              "      <td>0</td>\n",
              "      <td>0</td>\n",
              "      <td>93826.63</td>\n",
              "      <td>0</td>\n",
              "      <td>0</td>\n",
              "      <td>5</td>\n",
              "      <td>GOLD</td>\n",
              "      <td>350</td>\n",
              "    </tr>\n",
              "    <tr>\n",
              "      <th>4</th>\n",
              "      <td>850</td>\n",
              "      <td>Spain</td>\n",
              "      <td>Female</td>\n",
              "      <td>43</td>\n",
              "      <td>2</td>\n",
              "      <td>125510.82</td>\n",
              "      <td>1</td>\n",
              "      <td>1</td>\n",
              "      <td>1</td>\n",
              "      <td>79084.10</td>\n",
              "      <td>0</td>\n",
              "      <td>0</td>\n",
              "      <td>5</td>\n",
              "      <td>GOLD</td>\n",
              "      <td>425</td>\n",
              "    </tr>\n",
              "  </tbody>\n",
              "</table>\n",
              "</div>\n",
              "      <button class=\"colab-df-convert\" onclick=\"convertToInteractive('df-f6a51706-e6dd-4ea5-b85e-d0fb00de9aa4')\"\n",
              "              title=\"Convert this dataframe to an interactive table.\"\n",
              "              style=\"display:none;\">\n",
              "        \n",
              "  <svg xmlns=\"http://www.w3.org/2000/svg\" height=\"24px\"viewBox=\"0 0 24 24\"\n",
              "       width=\"24px\">\n",
              "    <path d=\"M0 0h24v24H0V0z\" fill=\"none\"/>\n",
              "    <path d=\"M18.56 5.44l.94 2.06.94-2.06 2.06-.94-2.06-.94-.94-2.06-.94 2.06-2.06.94zm-11 1L8.5 8.5l.94-2.06 2.06-.94-2.06-.94L8.5 2.5l-.94 2.06-2.06.94zm10 10l.94 2.06.94-2.06 2.06-.94-2.06-.94-.94-2.06-.94 2.06-2.06.94z\"/><path d=\"M17.41 7.96l-1.37-1.37c-.4-.4-.92-.59-1.43-.59-.52 0-1.04.2-1.43.59L10.3 9.45l-7.72 7.72c-.78.78-.78 2.05 0 2.83L4 21.41c.39.39.9.59 1.41.59.51 0 1.02-.2 1.41-.59l7.78-7.78 2.81-2.81c.8-.78.8-2.07 0-2.86zM5.41 20L4 18.59l7.72-7.72 1.47 1.35L5.41 20z\"/>\n",
              "  </svg>\n",
              "      </button>\n",
              "      \n",
              "  <style>\n",
              "    .colab-df-container {\n",
              "      display:flex;\n",
              "      flex-wrap:wrap;\n",
              "      gap: 12px;\n",
              "    }\n",
              "\n",
              "    .colab-df-convert {\n",
              "      background-color: #E8F0FE;\n",
              "      border: none;\n",
              "      border-radius: 50%;\n",
              "      cursor: pointer;\n",
              "      display: none;\n",
              "      fill: #1967D2;\n",
              "      height: 32px;\n",
              "      padding: 0 0 0 0;\n",
              "      width: 32px;\n",
              "    }\n",
              "\n",
              "    .colab-df-convert:hover {\n",
              "      background-color: #E2EBFA;\n",
              "      box-shadow: 0px 1px 2px rgba(60, 64, 67, 0.3), 0px 1px 3px 1px rgba(60, 64, 67, 0.15);\n",
              "      fill: #174EA6;\n",
              "    }\n",
              "\n",
              "    [theme=dark] .colab-df-convert {\n",
              "      background-color: #3B4455;\n",
              "      fill: #D2E3FC;\n",
              "    }\n",
              "\n",
              "    [theme=dark] .colab-df-convert:hover {\n",
              "      background-color: #434B5C;\n",
              "      box-shadow: 0px 1px 3px 1px rgba(0, 0, 0, 0.15);\n",
              "      filter: drop-shadow(0px 1px 2px rgba(0, 0, 0, 0.3));\n",
              "      fill: #FFFFFF;\n",
              "    }\n",
              "  </style>\n",
              "\n",
              "      <script>\n",
              "        const buttonEl =\n",
              "          document.querySelector('#df-f6a51706-e6dd-4ea5-b85e-d0fb00de9aa4 button.colab-df-convert');\n",
              "        buttonEl.style.display =\n",
              "          google.colab.kernel.accessAllowed ? 'block' : 'none';\n",
              "\n",
              "        async function convertToInteractive(key) {\n",
              "          const element = document.querySelector('#df-f6a51706-e6dd-4ea5-b85e-d0fb00de9aa4');\n",
              "          const dataTable =\n",
              "            await google.colab.kernel.invokeFunction('convertToInteractive',\n",
              "                                                     [key], {});\n",
              "          if (!dataTable) return;\n",
              "\n",
              "          const docLinkHtml = 'Like what you see? Visit the ' +\n",
              "            '<a target=\"_blank\" href=https://colab.research.google.com/notebooks/data_table.ipynb>data table notebook</a>'\n",
              "            + ' to learn more about interactive tables.';\n",
              "          element.innerHTML = '';\n",
              "          dataTable['output_type'] = 'display_data';\n",
              "          await google.colab.output.renderOutput(dataTable, element);\n",
              "          const docLink = document.createElement('div');\n",
              "          docLink.innerHTML = docLinkHtml;\n",
              "          element.appendChild(docLink);\n",
              "        }\n",
              "      </script>\n",
              "    </div>\n",
              "  </div>\n",
              "  "
            ]
          },
          "metadata": {},
          "execution_count": 7
        }
      ]
    },
    {
      "cell_type": "markdown",
      "source": [
        "## 2 - *Data Exploration*"
      ],
      "metadata": {
        "id": "re__isRr1GMR"
      }
    },
    {
      "cell_type": "code",
      "source": [
        "data_new.shape # to check the rows and columns"
      ],
      "metadata": {
        "colab": {
          "base_uri": "https://localhost:8080/"
        },
        "id": "kE8UBnfQ1KlF",
        "outputId": "6e636841-65e4-4704-e934-80216a27f1d6"
      },
      "execution_count": 8,
      "outputs": [
        {
          "output_type": "execute_result",
          "data": {
            "text/plain": [
              "(10000, 15)"
            ]
          },
          "metadata": {},
          "execution_count": 8
        }
      ]
    },
    {
      "cell_type": "code",
      "source": [
        "data_new.dtypes"
      ],
      "metadata": {
        "colab": {
          "base_uri": "https://localhost:8080/"
        },
        "id": "Csy-FkJF1bjJ",
        "outputId": "bcca3374-d45f-4bd8-dda0-9fc286fa9c6d"
      },
      "execution_count": 9,
      "outputs": [
        {
          "output_type": "execute_result",
          "data": {
            "text/plain": [
              "CreditScore             int64\n",
              "Geography              object\n",
              "Gender                 object\n",
              "Age                     int64\n",
              "Tenure                  int64\n",
              "Balance               float64\n",
              "NumOfProducts           int64\n",
              "HasCrCard               int64\n",
              "IsActiveMember          int64\n",
              "EstimatedSalary       float64\n",
              "Exited                  int64\n",
              "Complain                int64\n",
              "Satisfaction Score      int64\n",
              "Card Type              object\n",
              "Point Earned            int64\n",
              "dtype: object"
            ]
          },
          "metadata": {},
          "execution_count": 9
        }
      ]
    },
    {
      "cell_type": "code",
      "source": [
        "data_new.dtypes.value_counts()"
      ],
      "metadata": {
        "colab": {
          "base_uri": "https://localhost:8080/"
        },
        "id": "5sSgrrTl1_F8",
        "outputId": "67bcd39e-2420-4ffb-e99d-056ca4ba4158"
      },
      "execution_count": 10,
      "outputs": [
        {
          "output_type": "execute_result",
          "data": {
            "text/plain": [
              "int64      10\n",
              "object      3\n",
              "float64     2\n",
              "dtype: int64"
            ]
          },
          "metadata": {},
          "execution_count": 10
        }
      ]
    },
    {
      "cell_type": "code",
      "source": [
        "data_new.isnull().sum()"
      ],
      "metadata": {
        "colab": {
          "base_uri": "https://localhost:8080/"
        },
        "id": "oSGF_I9e2L5D",
        "outputId": "983279d9-ffac-4c5f-beb9-aa77dc35c4d2"
      },
      "execution_count": 11,
      "outputs": [
        {
          "output_type": "execute_result",
          "data": {
            "text/plain": [
              "CreditScore           0\n",
              "Geography             0\n",
              "Gender                0\n",
              "Age                   0\n",
              "Tenure                0\n",
              "Balance               0\n",
              "NumOfProducts         0\n",
              "HasCrCard             0\n",
              "IsActiveMember        0\n",
              "EstimatedSalary       0\n",
              "Exited                0\n",
              "Complain              0\n",
              "Satisfaction Score    0\n",
              "Card Type             0\n",
              "Point Earned          0\n",
              "dtype: int64"
            ]
          },
          "metadata": {},
          "execution_count": 11
        }
      ]
    },
    {
      "cell_type": "code",
      "source": [
        "data_new.duplicated().sum()"
      ],
      "metadata": {
        "colab": {
          "base_uri": "https://localhost:8080/"
        },
        "id": "SrmRehPU2d-d",
        "outputId": "b5ecdbb7-52c5-44f6-f117-7d772ef475ab"
      },
      "execution_count": 12,
      "outputs": [
        {
          "output_type": "execute_result",
          "data": {
            "text/plain": [
              "0"
            ]
          },
          "metadata": {},
          "execution_count": 12
        }
      ]
    },
    {
      "cell_type": "code",
      "source": [
        "data_new.info()"
      ],
      "metadata": {
        "colab": {
          "base_uri": "https://localhost:8080/"
        },
        "id": "aXM_o83G2wnE",
        "outputId": "9bf74225-01ad-4bfe-e0c9-01e06a9e8641"
      },
      "execution_count": 13,
      "outputs": [
        {
          "output_type": "stream",
          "name": "stdout",
          "text": [
            "<class 'pandas.core.frame.DataFrame'>\n",
            "RangeIndex: 10000 entries, 0 to 9999\n",
            "Data columns (total 15 columns):\n",
            " #   Column              Non-Null Count  Dtype  \n",
            "---  ------              --------------  -----  \n",
            " 0   CreditScore         10000 non-null  int64  \n",
            " 1   Geography           10000 non-null  object \n",
            " 2   Gender              10000 non-null  object \n",
            " 3   Age                 10000 non-null  int64  \n",
            " 4   Tenure              10000 non-null  int64  \n",
            " 5   Balance             10000 non-null  float64\n",
            " 6   NumOfProducts       10000 non-null  int64  \n",
            " 7   HasCrCard           10000 non-null  int64  \n",
            " 8   IsActiveMember      10000 non-null  int64  \n",
            " 9   EstimatedSalary     10000 non-null  float64\n",
            " 10  Exited              10000 non-null  int64  \n",
            " 11  Complain            10000 non-null  int64  \n",
            " 12  Satisfaction Score  10000 non-null  int64  \n",
            " 13  Card Type           10000 non-null  object \n",
            " 14  Point Earned        10000 non-null  int64  \n",
            "dtypes: float64(2), int64(10), object(3)\n",
            "memory usage: 1.1+ MB\n"
          ]
        }
      ]
    },
    {
      "cell_type": "code",
      "source": [
        "data_new.describe().round(2).T"
      ],
      "metadata": {
        "colab": {
          "base_uri": "https://localhost:8080/",
          "height": 425
        },
        "id": "RBd66WKz4WDQ",
        "outputId": "a1e8c631-4240-41c8-e611-e44c4e96dcd3"
      },
      "execution_count": 14,
      "outputs": [
        {
          "output_type": "execute_result",
          "data": {
            "text/plain": [
              "                      count       mean       std     min       25%        50%  \\\n",
              "CreditScore         10000.0     650.53     96.65  350.00    584.00     652.00   \n",
              "Age                 10000.0      38.92     10.49   18.00     32.00      37.00   \n",
              "Tenure              10000.0       5.01      2.89    0.00      3.00       5.00   \n",
              "Balance             10000.0   76485.89  62397.41    0.00      0.00   97198.54   \n",
              "NumOfProducts       10000.0       1.53      0.58    1.00      1.00       1.00   \n",
              "HasCrCard           10000.0       0.71      0.46    0.00      0.00       1.00   \n",
              "IsActiveMember      10000.0       0.52      0.50    0.00      0.00       1.00   \n",
              "EstimatedSalary     10000.0  100090.24  57510.49   11.58  51002.11  100193.92   \n",
              "Exited              10000.0       0.20      0.40    0.00      0.00       0.00   \n",
              "Complain            10000.0       0.20      0.40    0.00      0.00       0.00   \n",
              "Satisfaction Score  10000.0       3.01      1.41    1.00      2.00       3.00   \n",
              "Point Earned        10000.0     606.52    225.92  119.00    410.00     605.00   \n",
              "\n",
              "                          75%        max  \n",
              "CreditScore            718.00     850.00  \n",
              "Age                     44.00      92.00  \n",
              "Tenure                   7.00      10.00  \n",
              "Balance             127644.24  250898.09  \n",
              "NumOfProducts            2.00       4.00  \n",
              "HasCrCard                1.00       1.00  \n",
              "IsActiveMember           1.00       1.00  \n",
              "EstimatedSalary     149388.25  199992.48  \n",
              "Exited                   0.00       1.00  \n",
              "Complain                 0.00       1.00  \n",
              "Satisfaction Score       4.00       5.00  \n",
              "Point Earned           801.00    1000.00  "
            ],
            "text/html": [
              "\n",
              "  <div id=\"df-ba284b12-0355-4bf2-9cf3-1b2b2acd8ad6\">\n",
              "    <div class=\"colab-df-container\">\n",
              "      <div>\n",
              "<style scoped>\n",
              "    .dataframe tbody tr th:only-of-type {\n",
              "        vertical-align: middle;\n",
              "    }\n",
              "\n",
              "    .dataframe tbody tr th {\n",
              "        vertical-align: top;\n",
              "    }\n",
              "\n",
              "    .dataframe thead th {\n",
              "        text-align: right;\n",
              "    }\n",
              "</style>\n",
              "<table border=\"1\" class=\"dataframe\">\n",
              "  <thead>\n",
              "    <tr style=\"text-align: right;\">\n",
              "      <th></th>\n",
              "      <th>count</th>\n",
              "      <th>mean</th>\n",
              "      <th>std</th>\n",
              "      <th>min</th>\n",
              "      <th>25%</th>\n",
              "      <th>50%</th>\n",
              "      <th>75%</th>\n",
              "      <th>max</th>\n",
              "    </tr>\n",
              "  </thead>\n",
              "  <tbody>\n",
              "    <tr>\n",
              "      <th>CreditScore</th>\n",
              "      <td>10000.0</td>\n",
              "      <td>650.53</td>\n",
              "      <td>96.65</td>\n",
              "      <td>350.00</td>\n",
              "      <td>584.00</td>\n",
              "      <td>652.00</td>\n",
              "      <td>718.00</td>\n",
              "      <td>850.00</td>\n",
              "    </tr>\n",
              "    <tr>\n",
              "      <th>Age</th>\n",
              "      <td>10000.0</td>\n",
              "      <td>38.92</td>\n",
              "      <td>10.49</td>\n",
              "      <td>18.00</td>\n",
              "      <td>32.00</td>\n",
              "      <td>37.00</td>\n",
              "      <td>44.00</td>\n",
              "      <td>92.00</td>\n",
              "    </tr>\n",
              "    <tr>\n",
              "      <th>Tenure</th>\n",
              "      <td>10000.0</td>\n",
              "      <td>5.01</td>\n",
              "      <td>2.89</td>\n",
              "      <td>0.00</td>\n",
              "      <td>3.00</td>\n",
              "      <td>5.00</td>\n",
              "      <td>7.00</td>\n",
              "      <td>10.00</td>\n",
              "    </tr>\n",
              "    <tr>\n",
              "      <th>Balance</th>\n",
              "      <td>10000.0</td>\n",
              "      <td>76485.89</td>\n",
              "      <td>62397.41</td>\n",
              "      <td>0.00</td>\n",
              "      <td>0.00</td>\n",
              "      <td>97198.54</td>\n",
              "      <td>127644.24</td>\n",
              "      <td>250898.09</td>\n",
              "    </tr>\n",
              "    <tr>\n",
              "      <th>NumOfProducts</th>\n",
              "      <td>10000.0</td>\n",
              "      <td>1.53</td>\n",
              "      <td>0.58</td>\n",
              "      <td>1.00</td>\n",
              "      <td>1.00</td>\n",
              "      <td>1.00</td>\n",
              "      <td>2.00</td>\n",
              "      <td>4.00</td>\n",
              "    </tr>\n",
              "    <tr>\n",
              "      <th>HasCrCard</th>\n",
              "      <td>10000.0</td>\n",
              "      <td>0.71</td>\n",
              "      <td>0.46</td>\n",
              "      <td>0.00</td>\n",
              "      <td>0.00</td>\n",
              "      <td>1.00</td>\n",
              "      <td>1.00</td>\n",
              "      <td>1.00</td>\n",
              "    </tr>\n",
              "    <tr>\n",
              "      <th>IsActiveMember</th>\n",
              "      <td>10000.0</td>\n",
              "      <td>0.52</td>\n",
              "      <td>0.50</td>\n",
              "      <td>0.00</td>\n",
              "      <td>0.00</td>\n",
              "      <td>1.00</td>\n",
              "      <td>1.00</td>\n",
              "      <td>1.00</td>\n",
              "    </tr>\n",
              "    <tr>\n",
              "      <th>EstimatedSalary</th>\n",
              "      <td>10000.0</td>\n",
              "      <td>100090.24</td>\n",
              "      <td>57510.49</td>\n",
              "      <td>11.58</td>\n",
              "      <td>51002.11</td>\n",
              "      <td>100193.92</td>\n",
              "      <td>149388.25</td>\n",
              "      <td>199992.48</td>\n",
              "    </tr>\n",
              "    <tr>\n",
              "      <th>Exited</th>\n",
              "      <td>10000.0</td>\n",
              "      <td>0.20</td>\n",
              "      <td>0.40</td>\n",
              "      <td>0.00</td>\n",
              "      <td>0.00</td>\n",
              "      <td>0.00</td>\n",
              "      <td>0.00</td>\n",
              "      <td>1.00</td>\n",
              "    </tr>\n",
              "    <tr>\n",
              "      <th>Complain</th>\n",
              "      <td>10000.0</td>\n",
              "      <td>0.20</td>\n",
              "      <td>0.40</td>\n",
              "      <td>0.00</td>\n",
              "      <td>0.00</td>\n",
              "      <td>0.00</td>\n",
              "      <td>0.00</td>\n",
              "      <td>1.00</td>\n",
              "    </tr>\n",
              "    <tr>\n",
              "      <th>Satisfaction Score</th>\n",
              "      <td>10000.0</td>\n",
              "      <td>3.01</td>\n",
              "      <td>1.41</td>\n",
              "      <td>1.00</td>\n",
              "      <td>2.00</td>\n",
              "      <td>3.00</td>\n",
              "      <td>4.00</td>\n",
              "      <td>5.00</td>\n",
              "    </tr>\n",
              "    <tr>\n",
              "      <th>Point Earned</th>\n",
              "      <td>10000.0</td>\n",
              "      <td>606.52</td>\n",
              "      <td>225.92</td>\n",
              "      <td>119.00</td>\n",
              "      <td>410.00</td>\n",
              "      <td>605.00</td>\n",
              "      <td>801.00</td>\n",
              "      <td>1000.00</td>\n",
              "    </tr>\n",
              "  </tbody>\n",
              "</table>\n",
              "</div>\n",
              "      <button class=\"colab-df-convert\" onclick=\"convertToInteractive('df-ba284b12-0355-4bf2-9cf3-1b2b2acd8ad6')\"\n",
              "              title=\"Convert this dataframe to an interactive table.\"\n",
              "              style=\"display:none;\">\n",
              "        \n",
              "  <svg xmlns=\"http://www.w3.org/2000/svg\" height=\"24px\"viewBox=\"0 0 24 24\"\n",
              "       width=\"24px\">\n",
              "    <path d=\"M0 0h24v24H0V0z\" fill=\"none\"/>\n",
              "    <path d=\"M18.56 5.44l.94 2.06.94-2.06 2.06-.94-2.06-.94-.94-2.06-.94 2.06-2.06.94zm-11 1L8.5 8.5l.94-2.06 2.06-.94-2.06-.94L8.5 2.5l-.94 2.06-2.06.94zm10 10l.94 2.06.94-2.06 2.06-.94-2.06-.94-.94-2.06-.94 2.06-2.06.94z\"/><path d=\"M17.41 7.96l-1.37-1.37c-.4-.4-.92-.59-1.43-.59-.52 0-1.04.2-1.43.59L10.3 9.45l-7.72 7.72c-.78.78-.78 2.05 0 2.83L4 21.41c.39.39.9.59 1.41.59.51 0 1.02-.2 1.41-.59l7.78-7.78 2.81-2.81c.8-.78.8-2.07 0-2.86zM5.41 20L4 18.59l7.72-7.72 1.47 1.35L5.41 20z\"/>\n",
              "  </svg>\n",
              "      </button>\n",
              "      \n",
              "  <style>\n",
              "    .colab-df-container {\n",
              "      display:flex;\n",
              "      flex-wrap:wrap;\n",
              "      gap: 12px;\n",
              "    }\n",
              "\n",
              "    .colab-df-convert {\n",
              "      background-color: #E8F0FE;\n",
              "      border: none;\n",
              "      border-radius: 50%;\n",
              "      cursor: pointer;\n",
              "      display: none;\n",
              "      fill: #1967D2;\n",
              "      height: 32px;\n",
              "      padding: 0 0 0 0;\n",
              "      width: 32px;\n",
              "    }\n",
              "\n",
              "    .colab-df-convert:hover {\n",
              "      background-color: #E2EBFA;\n",
              "      box-shadow: 0px 1px 2px rgba(60, 64, 67, 0.3), 0px 1px 3px 1px rgba(60, 64, 67, 0.15);\n",
              "      fill: #174EA6;\n",
              "    }\n",
              "\n",
              "    [theme=dark] .colab-df-convert {\n",
              "      background-color: #3B4455;\n",
              "      fill: #D2E3FC;\n",
              "    }\n",
              "\n",
              "    [theme=dark] .colab-df-convert:hover {\n",
              "      background-color: #434B5C;\n",
              "      box-shadow: 0px 1px 3px 1px rgba(0, 0, 0, 0.15);\n",
              "      filter: drop-shadow(0px 1px 2px rgba(0, 0, 0, 0.3));\n",
              "      fill: #FFFFFF;\n",
              "    }\n",
              "  </style>\n",
              "\n",
              "      <script>\n",
              "        const buttonEl =\n",
              "          document.querySelector('#df-ba284b12-0355-4bf2-9cf3-1b2b2acd8ad6 button.colab-df-convert');\n",
              "        buttonEl.style.display =\n",
              "          google.colab.kernel.accessAllowed ? 'block' : 'none';\n",
              "\n",
              "        async function convertToInteractive(key) {\n",
              "          const element = document.querySelector('#df-ba284b12-0355-4bf2-9cf3-1b2b2acd8ad6');\n",
              "          const dataTable =\n",
              "            await google.colab.kernel.invokeFunction('convertToInteractive',\n",
              "                                                     [key], {});\n",
              "          if (!dataTable) return;\n",
              "\n",
              "          const docLinkHtml = 'Like what you see? Visit the ' +\n",
              "            '<a target=\"_blank\" href=https://colab.research.google.com/notebooks/data_table.ipynb>data table notebook</a>'\n",
              "            + ' to learn more about interactive tables.';\n",
              "          element.innerHTML = '';\n",
              "          dataTable['output_type'] = 'display_data';\n",
              "          await google.colab.output.renderOutput(dataTable, element);\n",
              "          const docLink = document.createElement('div');\n",
              "          docLink.innerHTML = docLinkHtml;\n",
              "          element.appendChild(docLink);\n",
              "        }\n",
              "      </script>\n",
              "    </div>\n",
              "  </div>\n",
              "  "
            ]
          },
          "metadata": {},
          "execution_count": 14
        }
      ]
    },
    {
      "cell_type": "code",
      "source": [
        "data_new['Exited'].value_counts()"
      ],
      "metadata": {
        "colab": {
          "base_uri": "https://localhost:8080/"
        },
        "id": "F3xBbrr95Ywr",
        "outputId": "6b23ea05-8ea9-4621-ac3b-ed057718cd37"
      },
      "execution_count": 15,
      "outputs": [
        {
          "output_type": "execute_result",
          "data": {
            "text/plain": [
              "0    7962\n",
              "1    2038\n",
              "Name: Exited, dtype: int64"
            ]
          },
          "metadata": {},
          "execution_count": 15
        }
      ]
    },
    {
      "cell_type": "code",
      "source": [
        "sns.countplot(data=data_new, x='Exited')\n",
        "plt.title(\"The distribution of Exited column\", size=16)\n",
        "plt.show()"
      ],
      "metadata": {
        "colab": {
          "base_uri": "https://localhost:8080/",
          "height": 474
        },
        "id": "8M1AXVL95zGL",
        "outputId": "45d15b13-35b7-4329-dcaa-f219634e8728"
      },
      "execution_count": 16,
      "outputs": [
        {
          "output_type": "display_data",
          "data": {
            "text/plain": [
              "<Figure size 640x480 with 1 Axes>"
            ],
            "image/png": "[encoded data removed]"
          },
          "metadata": {}
        }
      ]
    },
    {
      "cell_type": "markdown",
      "source": [
        "# *Data Preprocessing*"
      ],
      "metadata": {
        "id": "EzNWmJQlShs9"
      }
    },
    {
      "cell_type": "code",
      "source": [
        "features = data_new.drop('Exited', axis=1)\n",
        "target = data_new['Exited']"
      ],
      "metadata": {
        "id": "r6zoFN09rt-R"
      },
      "execution_count": 21,
      "outputs": []
    },
    {
      "cell_type": "markdown",
      "source": [
        "### *Data Resampling*"
      ],
      "metadata": {
        "id": "BA1sjfJ3nYlf"
      }
    },
    {
      "cell_type": "code",
      "source": [
        "from imblearn.under_sampling import RandomUnderSampler\n",
        "\n",
        "sampler = RandomUnderSampler(random_state=42)\n",
        "\n",
        "features_res, target_res =  sampler.fit_resample(features, target)"
      ],
      "metadata": {
        "id": "XHh2YhRsrR_V"
      },
      "execution_count": 23,
      "outputs": []
    },
    {
      "cell_type": "markdown",
      "source": [
        "### *Train and Test*"
      ],
      "metadata": {
        "id": "2Q6363WLyNTC"
      }
    },
    {
      "cell_type": "code",
      "source": [
        "from sklearn.model_selection import train_test_split\n",
        "\n",
        "x_train, x_test, y_train, y_test = train_test_split(features_res, target_res, test_size=0.2, random_state=42, shuffle=True, stratify=target_res)"
      ],
      "metadata": {
        "id": "rnXK1w6gySWV"
      },
      "execution_count": 24,
      "outputs": []
    },
    {
      "cell_type": "code",
      "source": [
        "x_train.head()"
      ],
      "metadata": {
        "colab": {
          "base_uri": "https://localhost:8080/",
          "height": 206
        },
        "id": "7BajlOzPBo8F",
        "outputId": "1f43948d-9da6-47b9-cdc5-145f66bf4620"
      },
      "execution_count": 25,
      "outputs": [
        {
          "output_type": "execute_result",
          "data": {
            "text/plain": [
              "      CreditScore Geography  Gender  Age  Tenure    Balance  NumOfProducts  \\\n",
              "1357          703   Germany  Female   29       3  122084.63              1   \n",
              "331           625    France    Male   43       4  122351.29              1   \n",
              "2552          774    France  Female   52       2   56580.93              1   \n",
              "3216          546    France  Female   52       2       0.00              1   \n",
              "806           508    France    Male   49       7  122451.46              2   \n",
              "\n",
              "      HasCrCard  IsActiveMember  EstimatedSalary  Complain  \\\n",
              "1357          0               1         82824.08         0   \n",
              "331           1               0         71216.60         0   \n",
              "2552          1               0        113266.28         1   \n",
              "3216          1               0        137332.37         1   \n",
              "806           1               1         75808.10         0   \n",
              "\n",
              "      Satisfaction Score Card Type  Point Earned  \n",
              "1357                   2  PLATINUM           712  \n",
              "331                    4      GOLD           936  \n",
              "2552                   5  PLATINUM           946  \n",
              "3216                   4    SILVER           325  \n",
              "806                    3      GOLD           881  "
            ],
            "text/html": [
              "\n",
              "  <div id=\"df-5e626287-9b57-486a-a6b0-2055dc1cfe9e\">\n",
              "    <div class=\"colab-df-container\">\n",
              "      <div>\n",
              "<style scoped>\n",
              "    .dataframe tbody tr th:only-of-type {\n",
              "        vertical-align: middle;\n",
              "    }\n",
              "\n",
              "    .dataframe tbody tr th {\n",
              "        vertical-align: top;\n",
              "    }\n",
              "\n",
              "    .dataframe thead th {\n",
              "        text-align: right;\n",
              "    }\n",
              "</style>\n",
              "<table border=\"1\" class=\"dataframe\">\n",
              "  <thead>\n",
              "    <tr style=\"text-align: right;\">\n",
              "      <th></th>\n",
              "      <th>CreditScore</th>\n",
              "      <th>Geography</th>\n",
              "      <th>Gender</th>\n",
              "      <th>Age</th>\n",
              "      <th>Tenure</th>\n",
              "      <th>Balance</th>\n",
              "      <th>NumOfProducts</th>\n",
              "      <th>HasCrCard</th>\n",
              "      <th>IsActiveMember</th>\n",
              "      <th>EstimatedSalary</th>\n",
              "      <th>Complain</th>\n",
              "      <th>Satisfaction Score</th>\n",
              "      <th>Card Type</th>\n",
              "      <th>Point Earned</th>\n",
              "    </tr>\n",
              "  </thead>\n",
              "  <tbody>\n",
              "    <tr>\n",
              "      <th>1357</th>\n",
              "      <td>703</td>\n",
              "      <td>Germany</td>\n",
              "      <td>Female</td>\n",
              "      <td>29</td>\n",
              "      <td>3</td>\n",
              "      <td>122084.63</td>\n",
              "      <td>1</td>\n",
              "      <td>0</td>\n",
              "      <td>1</td>\n",
              "      <td>82824.08</td>\n",
              "      <td>0</td>\n",
              "      <td>2</td>\n",
              "      <td>PLATINUM</td>\n",
              "      <td>712</td>\n",
              "    </tr>\n",
              "    <tr>\n",
              "      <th>331</th>\n",
              "      <td>625</td>\n",
              "      <td>France</td>\n",
              "      <td>Male</td>\n",
              "      <td>43</td>\n",
              "      <td>4</td>\n",
              "      <td>122351.29</td>\n",
              "      <td>1</td>\n",
              "      <td>1</td>\n",
              "      <td>0</td>\n",
              "      <td>71216.60</td>\n",
              "      <td>0</td>\n",
              "      <td>4</td>\n",
              "      <td>GOLD</td>\n",
              "      <td>936</td>\n",
              "    </tr>\n",
              "    <tr>\n",
              "      <th>2552</th>\n",
              "      <td>774</td>\n",
              "      <td>France</td>\n",
              "      <td>Female</td>\n",
              "      <td>52</td>\n",
              "      <td>2</td>\n",
              "      <td>56580.93</td>\n",
              "      <td>1</td>\n",
              "      <td>1</td>\n",
              "      <td>0</td>\n",
              "      <td>113266.28</td>\n",
              "      <td>1</td>\n",
              "      <td>5</td>\n",
              "      <td>PLATINUM</td>\n",
              "      <td>946</td>\n",
              "    </tr>\n",
              "    <tr>\n",
              "      <th>3216</th>\n",
              "      <td>546</td>\n",
              "      <td>France</td>\n",
              "      <td>Female</td>\n",
              "      <td>52</td>\n",
              "      <td>2</td>\n",
              "      <td>0.00</td>\n",
              "      <td>1</td>\n",
              "      <td>1</td>\n",
              "      <td>0</td>\n",
              "      <td>137332.37</td>\n",
              "      <td>1</td>\n",
              "      <td>4</td>\n",
              "      <td>SILVER</td>\n",
              "      <td>325</td>\n",
              "    </tr>\n",
              "    <tr>\n",
              "      <th>806</th>\n",
              "      <td>508</td>\n",
              "      <td>France</td>\n",
              "      <td>Male</td>\n",
              "      <td>49</td>\n",
              "      <td>7</td>\n",
              "      <td>122451.46</td>\n",
              "      <td>2</td>\n",
              "      <td>1</td>\n",
              "      <td>1</td>\n",
              "      <td>75808.10</td>\n",
              "      <td>0</td>\n",
              "      <td>3</td>\n",
              "      <td>GOLD</td>\n",
              "      <td>881</td>\n",
              "    </tr>\n",
              "  </tbody>\n",
              "</table>\n",
              "</div>\n",
              "      <button class=\"colab-df-convert\" onclick=\"convertToInteractive('df-5e626287-9b57-486a-a6b0-2055dc1cfe9e')\"\n",
              "              title=\"Convert this dataframe to an interactive table.\"\n",
              "              style=\"display:none;\">\n",
              "        \n",
              "  <svg xmlns=\"http://www.w3.org/2000/svg\" height=\"24px\"viewBox=\"0 0 24 24\"\n",
              "       width=\"24px\">\n",
              "    <path d=\"M0 0h24v24H0V0z\" fill=\"none\"/>\n",
              "    <path d=\"M18.56 5.44l.94 2.06.94-2.06 2.06-.94-2.06-.94-.94-2.06-.94 2.06-2.06.94zm-11 1L8.5 8.5l.94-2.06 2.06-.94-2.06-.94L8.5 2.5l-.94 2.06-2.06.94zm10 10l.94 2.06.94-2.06 2.06-.94-2.06-.94-.94-2.06-.94 2.06-2.06.94z\"/><path d=\"M17.41 7.96l-1.37-1.37c-.4-.4-.92-.59-1.43-.59-.52 0-1.04.2-1.43.59L10.3 9.45l-7.72 7.72c-.78.78-.78 2.05 0 2.83L4 21.41c.39.39.9.59 1.41.59.51 0 1.02-.2 1.41-.59l7.78-7.78 2.81-2.81c.8-.78.8-2.07 0-2.86zM5.41 20L4 18.59l7.72-7.72 1.47 1.35L5.41 20z\"/>\n",
              "  </svg>\n",
              "      </button>\n",
              "      \n",
              "  <style>\n",
              "    .colab-df-container {\n",
              "      display:flex;\n",
              "      flex-wrap:wrap;\n",
              "      gap: 12px;\n",
              "    }\n",
              "\n",
              "    .colab-df-convert {\n",
              "      background-color: #E8F0FE;\n",
              "      border: none;\n",
              "      border-radius: 50%;\n",
              "      cursor: pointer;\n",
              "      display: none;\n",
              "      fill: #1967D2;\n",
              "      height: 32px;\n",
              "      padding: 0 0 0 0;\n",
              "      width: 32px;\n",
              "    }\n",
              "\n",
              "    .colab-df-convert:hover {\n",
              "      background-color: #E2EBFA;\n",
              "      box-shadow: 0px 1px 2px rgba(60, 64, 67, 0.3), 0px 1px 3px 1px rgba(60, 64, 67, 0.15);\n",
              "      fill: #174EA6;\n",
              "    }\n",
              "\n",
              "    [theme=dark] .colab-df-convert {\n",
              "      background-color: #3B4455;\n",
              "      fill: #D2E3FC;\n",
              "    }\n",
              "\n",
              "    [theme=dark] .colab-df-convert:hover {\n",
              "      background-color: #434B5C;\n",
              "      box-shadow: 0px 1px 3px 1px rgba(0, 0, 0, 0.15);\n",
              "      filter: drop-shadow(0px 1px 2px rgba(0, 0, 0, 0.3));\n",
              "      fill: #FFFFFF;\n",
              "    }\n",
              "  </style>\n",
              "\n",
              "      <script>\n",
              "        const buttonEl =\n",
              "          document.querySelector('#df-5e626287-9b57-486a-a6b0-2055dc1cfe9e button.colab-df-convert');\n",
              "        buttonEl.style.display =\n",
              "          google.colab.kernel.accessAllowed ? 'block' : 'none';\n",
              "\n",
              "        async function convertToInteractive(key) {\n",
              "          const element = document.querySelector('#df-5e626287-9b57-486a-a6b0-2055dc1cfe9e');\n",
              "          const dataTable =\n",
              "            await google.colab.kernel.invokeFunction('convertToInteractive',\n",
              "                                                     [key], {});\n",
              "          if (!dataTable) return;\n",
              "\n",
              "          const docLinkHtml = 'Like what you see? Visit the ' +\n",
              "            '<a target=\"_blank\" href=https://colab.research.google.com/notebooks/data_table.ipynb>data table notebook</a>'\n",
              "            + ' to learn more about interactive tables.';\n",
              "          element.innerHTML = '';\n",
              "          dataTable['output_type'] = 'display_data';\n",
              "          await google.colab.output.renderOutput(dataTable, element);\n",
              "          const docLink = document.createElement('div');\n",
              "          docLink.innerHTML = docLinkHtml;\n",
              "          element.appendChild(docLink);\n",
              "        }\n",
              "      </script>\n",
              "    </div>\n",
              "  </div>\n",
              "  "
            ]
          },
          "metadata": {},
          "execution_count": 25
        }
      ]
    },
    {
      "cell_type": "markdown",
      "source": [
        "# *Creating The Pipeline*"
      ],
      "metadata": {
        "id": "DEprB5d-x5je"
      }
    },
    {
      "cell_type": "code",
      "source": [
        "from sklearn.preprocessing import StandardScaler, FunctionTransformer\n",
        "from sklearn.decomposition import PCA\n",
        "from sklearn.linear_model import LogisticRegression\n",
        "from sklearn.pipeline import make_pipeline, Pipeline\n",
        "\n",
        "steps = [\n",
        "    ('encoding', FunctionTransformer(pd.get_dummies)),\n",
        "    ('scaling',  StandardScaler()),\n",
        "    ('pca',  PCA(n_components=2)),\n",
        "    ('model',  LogisticRegression(solver='saga'))\n",
        "]\n",
        "\n",
        "clf = Pipeline(steps=steps)\n",
        "\n",
        "clf.fit(x_train,y_train)"
      ],
      "metadata": {
        "id": "qMxDmFplw0eA",
        "colab": {
          "base_uri": "https://localhost:8080/",
          "height": 195
        },
        "outputId": "d2aac2af-3dbe-494b-80ba-4774792abbb8"
      },
      "execution_count": 27,
      "outputs": [
        {
          "output_type": "execute_result",
          "data": {
            "text/plain": [
              "Pipeline(steps=[('encoding',\n",
              "                 FunctionTransformer(func=<function get_dummies at 0x7f373e1ad6c0>)),\n",
              "                ('scaling', StandardScaler()), ('pca', PCA(n_components=2)),\n",
              "                ('model', LogisticRegression(solver='saga'))])"
            ],
            "text/html": [
              "<style>#sk-container-id-1 {color: black;background-color: white;}#sk-container-id-1 pre{padding: 0;}#sk-container-id-1 div.sk-toggleable {background-color: white;}#sk-container-id-1 label.sk-toggleable__label {cursor: pointer;display: block;width: 100%;margin-bottom: 0;padding: 0.3em;box-sizing: border-box;text-align: center;}#sk-container-id-1 label.sk-toggleable__label-arrow:before {content: \"▸\";float: left;margin-right: 0.25em;color: #696969;}#sk-container-id-1 label.sk-toggleable__label-arrow:hover:before {color: black;}#sk-container-id-1 div.sk-estimator:hover label.sk-toggleable__label-arrow:before {color: black;}#sk-container-id-1 div.sk-toggleable__content {max-height: 0;max-width: 0;overflow: hidden;text-align: left;background-color: #f0f8ff;}#sk-container-id-1 div.sk-toggleable__content pre {margin: 0.2em;color: black;border-radius: 0.25em;background-color: #f0f8ff;}#sk-container-id-1 input.sk-toggleable__control:checked~div.sk-toggleable__content {max-height: 200px;max-width: 100%;overflow: auto;}#sk-container-id-1 input.sk-toggleable__control:checked~label.sk-toggleable__label-arrow:before {content: \"▾\";}#sk-container-id-1 div.sk-estimator input.sk-toggleable__control:checked~label.sk-toggleable__label {background-color: #d4ebff;}#sk-container-id-1 div.sk-label input.sk-toggleable__control:checked~label.sk-toggleable__label {background-color: #d4ebff;}#sk-container-id-1 input.sk-hidden--visually {border: 0;clip: rect(1px 1px 1px 1px);clip: rect(1px, 1px, 1px, 1px);height: 1px;margin: -1px;overflow: hidden;padding: 0;position: absolute;width: 1px;}#sk-container-id-1 div.sk-estimator {font-family: monospace;background-color: #f0f8ff;border: 1px dotted black;border-radius: 0.25em;box-sizing: border-box;margin-bottom: 0.5em;}#sk-container-id-1 div.sk-estimator:hover {background-color: #d4ebff;}#sk-container-id-1 div.sk-parallel-item::after {content: \"\";width: 100%;border-bottom: 1px solid gray;flex-grow: 1;}#sk-container-id-1 div.sk-label:hover label.sk-toggleable__label {background-color: #d4ebff;}#sk-container-id-1 div.sk-serial::before {content: \"\";position: absolute;border-left: 1px solid gray;box-sizing: border-box;top: 0;bottom: 0;left: 50%;z-index: 0;}#sk-container-id-1 div.sk-serial {display: flex;flex-direction: column;align-items: center;background-color: white;padding-right: 0.2em;padding-left: 0.2em;position: relative;}#sk-container-id-1 div.sk-item {position: relative;z-index: 1;}#sk-container-id-1 div.sk-parallel {display: flex;align-items: stretch;justify-content: center;background-color: white;position: relative;}#sk-container-id-1 div.sk-item::before, #sk-container-id-1 div.sk-parallel-item::before {content: \"\";position: absolute;border-left: 1px solid gray;box-sizing: border-box;top: 0;bottom: 0;left: 50%;z-index: -1;}#sk-container-id-1 div.sk-parallel-item {display: flex;flex-direction: column;z-index: 1;position: relative;background-color: white;}#sk-container-id-1 div.sk-parallel-item:first-child::after {align-self: flex-end;width: 50%;}#sk-container-id-1 div.sk-parallel-item:last-child::after {align-self: flex-start;width: 50%;}#sk-container-id-1 div.sk-parallel-item:only-child::after {width: 0;}#sk-container-id-1 div.sk-dashed-wrapped {border: 1px dashed gray;margin: 0 0.4em 0.5em 0.4em;box-sizing: border-box;padding-bottom: 0.4em;background-color: white;}#sk-container-id-1 div.sk-label label {font-family: monospace;font-weight: bold;display: inline-block;line-height: 1.2em;}#sk-container-id-1 div.sk-label-container {text-align: center;}#sk-container-id-1 div.sk-container {/* jupyter's `normalize.less` sets `[hidden] { display: none; }` but bootstrap.min.css set `[hidden] { display: none !important; }` so we also need the `!important` here to be able to override the default hidden behavior on the sphinx rendered scikit-learn.org. See: https://github.com/scikit-learn/scikit-learn/issues/21755 */display: inline-block !important;position: relative;}#sk-container-id-1 div.sk-text-repr-fallback {display: none;}</style><div id=\"sk-container-id-1\" class=\"sk-top-container\"><div class=\"sk-text-repr-fallback\"><pre>Pipeline(steps=[(&#x27;encoding&#x27;,\n",
              "                 FunctionTransformer(func=&lt;function get_dummies at 0x7f373e1ad6c0&gt;)),\n",
              "                (&#x27;scaling&#x27;, StandardScaler()), (&#x27;pca&#x27;, PCA(n_components=2)),\n",
              "                (&#x27;model&#x27;, LogisticRegression(solver=&#x27;saga&#x27;))])</pre><b>In a Jupyter environment, please rerun this cell to show the HTML representation or trust the notebook. <br />On GitHub, the HTML representation is unable to render, please try loading this page with nbviewer.org.</b></div><div class=\"sk-container\" hidden><div class=\"sk-item sk-dashed-wrapped\"><div class=\"sk-label-container\"><div class=\"sk-label sk-toggleable\"><input class=\"sk-toggleable__control sk-hidden--visually\" id=\"sk-estimator-id-1\" type=\"checkbox\" ><label for=\"sk-estimator-id-1\" class=\"sk-toggleable__label sk-toggleable__label-arrow\">Pipeline</label><div class=\"sk-toggleable__content\"><pre>Pipeline(steps=[(&#x27;encoding&#x27;,\n",
              "                 FunctionTransformer(func=&lt;function get_dummies at 0x7f373e1ad6c0&gt;)),\n",
              "                (&#x27;scaling&#x27;, StandardScaler()), (&#x27;pca&#x27;, PCA(n_components=2)),\n",
              "                (&#x27;model&#x27;, LogisticRegression(solver=&#x27;saga&#x27;))])</pre></div></div></div><div class=\"sk-serial\"><div class=\"sk-item\"><div class=\"sk-estimator sk-toggleable\"><input class=\"sk-toggleable__control sk-hidden--visually\" id=\"sk-estimator-id-2\" type=\"checkbox\" ><label for=\"sk-estimator-id-2\" class=\"sk-toggleable__label sk-toggleable__label-arrow\">FunctionTransformer</label><div class=\"sk-toggleable__content\"><pre>FunctionTransformer(func=&lt;function get_dummies at 0x7f373e1ad6c0&gt;)</pre></div></div></div><div class=\"sk-item\"><div class=\"sk-estimator sk-toggleable\"><input class=\"sk-toggleable__control sk-hidden--visually\" id=\"sk-estimator-id-3\" type=\"checkbox\" ><label for=\"sk-estimator-id-3\" class=\"sk-toggleable__label sk-toggleable__label-arrow\">StandardScaler</label><div class=\"sk-toggleable__content\"><pre>StandardScaler()</pre></div></div></div><div class=\"sk-item\"><div class=\"sk-estimator sk-toggleable\"><input class=\"sk-toggleable__control sk-hidden--visually\" id=\"sk-estimator-id-4\" type=\"checkbox\" ><label for=\"sk-estimator-id-4\" class=\"sk-toggleable__label sk-toggleable__label-arrow\">PCA</label><div class=\"sk-toggleable__content\"><pre>PCA(n_components=2)</pre></div></div></div><div class=\"sk-item\"><div class=\"sk-estimator sk-toggleable\"><input class=\"sk-toggleable__control sk-hidden--visually\" id=\"sk-estimator-id-5\" type=\"checkbox\" ><label for=\"sk-estimator-id-5\" class=\"sk-toggleable__label sk-toggleable__label-arrow\">LogisticRegression</label><div class=\"sk-toggleable__content\"><pre>LogisticRegression(solver=&#x27;saga&#x27;)</pre></div></div></div></div></div></div></div>"
            ]
          },
          "metadata": {},
          "execution_count": 27
        }
      ]
    },
    {
      "cell_type": "code",
      "source": [
        "clf.score(x_test, y_test)"
      ],
      "metadata": {
        "colab": {
          "base_uri": "https://localhost:8080/"
        },
        "id": "EBXkL29q0_OI",
        "outputId": "20c745f7-76d9-4c86-9b68-fa4d26b8146e"
      },
      "execution_count": 28,
      "outputs": [
        {
          "output_type": "execute_result",
          "data": {
            "text/plain": [
              "0.6997549019607843"
            ]
          },
          "metadata": {},
          "execution_count": 28
        }
      ]
    },
    {
      "cell_type": "markdown",
      "source": [
        "## *Model Evaluation*\n",
        "\n",
        "### 1- *Accuracy*\n",
        "### 2- *F1 Score*\n",
        "### 3- *Precision*\n",
        "### 4- *Recall*"
      ],
      "metadata": {
        "id": "7XmilCtQ2rUD"
      }
    },
    {
      "cell_type": "code",
      "source": [
        "preds = clf.predict(x_test)"
      ],
      "metadata": {
        "id": "cosZrnFm2umo"
      },
      "execution_count": 29,
      "outputs": []
    },
    {
      "cell_type": "code",
      "source": [
        "from sklearn import metrics"
      ],
      "metadata": {
        "id": "ayi--9f44EQT"
      },
      "execution_count": 30,
      "outputs": []
    },
    {
      "cell_type": "code",
      "source": [
        "acc_score = metrics.accuracy_score(preds, y_test)\n",
        "print(acc_score)"
      ],
      "metadata": {
        "colab": {
          "base_uri": "https://localhost:8080/"
        },
        "id": "bisuWido4Xuh",
        "outputId": "6eae19e5-9458-4379-f819-863ec07a06af"
      },
      "execution_count": 31,
      "outputs": [
        {
          "output_type": "stream",
          "name": "stdout",
          "text": [
            "0.6997549019607843\n"
          ]
        }
      ]
    },
    {
      "cell_type": "code",
      "source": [
        "conf_matrics = metrics.confusion_matrix(preds, y_test)\n",
        "metrics.ConfusionMatrixDisplay(conf_matrics).plot()\n",
        "plt.show()"
      ],
      "metadata": {
        "colab": {
          "base_uri": "https://localhost:8080/",
          "height": 449
        },
        "id": "aGUO_TAW4wNn",
        "outputId": "84e6a22f-4e6f-45ff-92b6-e1900befc2bd"
      },
      "execution_count": 32,
      "outputs": [
        {
          "output_type": "display_data",
          "data": {
            "text/plain": [
              "<Figure size 640x480 with 2 Axes>"
            ],
            "image/png": "[encoded data removed]"
          },
          "metadata": {}
        }
      ]
    },
    {
      "cell_type": "code",
      "source": [
        "f_score = metrics.f1_score(preds, y_test)\n",
        "f_score"
      ],
      "metadata": {
        "colab": {
          "base_uri": "https://localhost:8080/"
        },
        "id": "oljxKQ2d7rWv",
        "outputId": "a4ef93dc-b810-461c-8211-4b86980a4967"
      },
      "execution_count": 33,
      "outputs": [
        {
          "output_type": "execute_result",
          "data": {
            "text/plain": [
              "0.703030303030303"
            ]
          },
          "metadata": {},
          "execution_count": 33
        }
      ]
    },
    {
      "cell_type": "code",
      "source": [
        "print(metrics.classification_report(y_test, preds))"
      ],
      "metadata": {
        "colab": {
          "base_uri": "https://localhost:8080/"
        },
        "id": "fD-3GN_N8yCc",
        "outputId": "b5b5e711-bb4d-4e82-f8e9-9eca4c0555ee"
      },
      "execution_count": 34,
      "outputs": [
        {
          "output_type": "stream",
          "name": "stdout",
          "text": [
            "              precision    recall  f1-score   support\n",
            "\n",
            "           0       0.70      0.69      0.70       408\n",
            "           1       0.70      0.71      0.70       408\n",
            "\n",
            "    accuracy                           0.70       816\n",
            "   macro avg       0.70      0.70      0.70       816\n",
            "weighted avg       0.70      0.70      0.70       816\n",
            "\n"
          ]
        }
      ]
    },
    {
      "cell_type": "markdown",
      "source": [
        "### cross validation\n",
        "\n",
        "![image.png](data:image/png;base64,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)"
      ],
      "metadata": {
        "id": "usZJ49Rr-OnZ"
      }
    },
    {
      "cell_type": "code",
      "source": [
        "from sklearn.model_selection import cross_val_score\n",
        "\n",
        "scores = cross_val_score(clf, features_res, target_res, cv=5)\n",
        "scores"
      ],
      "metadata": {
        "colab": {
          "base_uri": "https://localhost:8080/"
        },
        "id": "xeH07nuW-SPM",
        "outputId": "83ea35e8-638f-4889-b615-822c948a157e"
      },
      "execution_count": 35,
      "outputs": [
        {
          "output_type": "execute_result",
          "data": {
            "text/plain": [
              "array([0.71568627, 0.6993865 , 0.72147239, 0.71779141, 0.71288344])"
            ]
          },
          "metadata": {},
          "execution_count": 35
        }
      ]
    },
    {
      "cell_type": "markdown",
      "source": [
        "# *HyperParameter Optimaztion*"
      ],
      "metadata": {
        "id": "D2ViP07mKVzc"
      }
    },
    {
      "cell_type": "code",
      "source": [
        "from sklearn.model_selection import GridSearchCV\n",
        "\n",
        "params = {\n",
        "    'pca__n_components':[2,3,4,5,6,10, 12],\n",
        "    'model__penalty':['l1', 'l2'],\n",
        "    'model__C':[0.001, 0.01, 1, 10, 20]\n",
        "}\n",
        "\n",
        "grid_model = GridSearchCV(clf, params, cv=3, n_jobs=-1)\n",
        "grid_model.fit(x_train, y_train)"
      ],
      "metadata": {
        "colab": {
          "base_uri": "https://localhost:8080/",
          "height": 244
        },
        "id": "1R6ti2PCKaB5",
        "outputId": "db26d388-3363-46e4-c55e-36864d559417"
      },
      "execution_count": 36,
      "outputs": [
        {
          "output_type": "execute_result",
          "data": {
            "text/plain": [
              "GridSearchCV(cv=3,\n",
              "             estimator=Pipeline(steps=[('encoding',\n",
              "                                        FunctionTransformer(func=<function get_dummies at 0x7f373e1ad6c0>)),\n",
              "                                       ('scaling', StandardScaler()),\n",
              "                                       ('pca', PCA(n_components=2)),\n",
              "                                       ('model',\n",
              "                                        LogisticRegression(solver='saga'))]),\n",
              "             n_jobs=-1,\n",
              "             param_grid={'model__C': [0.001, 0.01, 1, 10, 20],\n",
              "                         'model__penalty': ['l1', 'l2'],\n",
              "                         'pca__n_components': [2, 3, 4, 5, 6, 10, 12]})"
            ],
            "text/html": [
              "<style>#sk-container-id-2 {color: black;background-color: white;}#sk-container-id-2 pre{padding: 0;}#sk-container-id-2 div.sk-toggleable {background-color: white;}#sk-container-id-2 label.sk-toggleable__label {cursor: pointer;display: block;width: 100%;margin-bottom: 0;padding: 0.3em;box-sizing: border-box;text-align: center;}#sk-container-id-2 label.sk-toggleable__label-arrow:before {content: \"▸\";float: left;margin-right: 0.25em;color: #696969;}#sk-container-id-2 label.sk-toggleable__label-arrow:hover:before {color: black;}#sk-container-id-2 div.sk-estimator:hover label.sk-toggleable__label-arrow:before {color: black;}#sk-container-id-2 div.sk-toggleable__content {max-height: 0;max-width: 0;overflow: hidden;text-align: left;background-color: #f0f8ff;}#sk-container-id-2 div.sk-toggleable__content pre {margin: 0.2em;color: black;border-radius: 0.25em;background-color: #f0f8ff;}#sk-container-id-2 input.sk-toggleable__control:checked~div.sk-toggleable__content {max-height: 200px;max-width: 100%;overflow: auto;}#sk-container-id-2 input.sk-toggleable__control:checked~label.sk-toggleable__label-arrow:before {content: \"▾\";}#sk-container-id-2 div.sk-estimator input.sk-toggleable__control:checked~label.sk-toggleable__label {background-color: #d4ebff;}#sk-container-id-2 div.sk-label input.sk-toggleable__control:checked~label.sk-toggleable__label {background-color: #d4ebff;}#sk-container-id-2 input.sk-hidden--visually {border: 0;clip: rect(1px 1px 1px 1px);clip: rect(1px, 1px, 1px, 1px);height: 1px;margin: -1px;overflow: hidden;padding: 0;position: absolute;width: 1px;}#sk-container-id-2 div.sk-estimator {font-family: monospace;background-color: #f0f8ff;border: 1px dotted black;border-radius: 0.25em;box-sizing: border-box;margin-bottom: 0.5em;}#sk-container-id-2 div.sk-estimator:hover {background-color: #d4ebff;}#sk-container-id-2 div.sk-parallel-item::after {content: \"\";width: 100%;border-bottom: 1px solid gray;flex-grow: 1;}#sk-container-id-2 div.sk-label:hover label.sk-toggleable__label {background-color: #d4ebff;}#sk-container-id-2 div.sk-serial::before {content: \"\";position: absolute;border-left: 1px solid gray;box-sizing: border-box;top: 0;bottom: 0;left: 50%;z-index: 0;}#sk-container-id-2 div.sk-serial {display: flex;flex-direction: column;align-items: center;background-color: white;padding-right: 0.2em;padding-left: 0.2em;position: relative;}#sk-container-id-2 div.sk-item {position: relative;z-index: 1;}#sk-container-id-2 div.sk-parallel {display: flex;align-items: stretch;justify-content: center;background-color: white;position: relative;}#sk-container-id-2 div.sk-item::before, #sk-container-id-2 div.sk-parallel-item::before {content: \"\";position: absolute;border-left: 1px solid gray;box-sizing: border-box;top: 0;bottom: 0;left: 50%;z-index: -1;}#sk-container-id-2 div.sk-parallel-item {display: flex;flex-direction: column;z-index: 1;position: relative;background-color: white;}#sk-container-id-2 div.sk-parallel-item:first-child::after {align-self: flex-end;width: 50%;}#sk-container-id-2 div.sk-parallel-item:last-child::after {align-self: flex-start;width: 50%;}#sk-container-id-2 div.sk-parallel-item:only-child::after {width: 0;}#sk-container-id-2 div.sk-dashed-wrapped {border: 1px dashed gray;margin: 0 0.4em 0.5em 0.4em;box-sizing: border-box;padding-bottom: 0.4em;background-color: white;}#sk-container-id-2 div.sk-label label {font-family: monospace;font-weight: bold;display: inline-block;line-height: 1.2em;}#sk-container-id-2 div.sk-label-container {text-align: center;}#sk-container-id-2 div.sk-container {/* jupyter's `normalize.less` sets `[hidden] { display: none; }` but bootstrap.min.css set `[hidden] { display: none !important; }` so we also need the `!important` here to be able to override the default hidden behavior on the sphinx rendered scikit-learn.org. See: https://github.com/scikit-learn/scikit-learn/issues/21755 */display: inline-block !important;position: relative;}#sk-container-id-2 div.sk-text-repr-fallback {display: none;}</style><div id=\"sk-container-id-2\" class=\"sk-top-container\"><div class=\"sk-text-repr-fallback\"><pre>GridSearchCV(cv=3,\n",
              "             estimator=Pipeline(steps=[(&#x27;encoding&#x27;,\n",
              "                                        FunctionTransformer(func=&lt;function get_dummies at 0x7f373e1ad6c0&gt;)),\n",
              "                                       (&#x27;scaling&#x27;, StandardScaler()),\n",
              "                                       (&#x27;pca&#x27;, PCA(n_components=2)),\n",
              "                                       (&#x27;model&#x27;,\n",
              "                                        LogisticRegression(solver=&#x27;saga&#x27;))]),\n",
              "             n_jobs=-1,\n",
              "             param_grid={&#x27;model__C&#x27;: [0.001, 0.01, 1, 10, 20],\n",
              "                         &#x27;model__penalty&#x27;: [&#x27;l1&#x27;, &#x27;l2&#x27;],\n",
              "                         &#x27;pca__n_components&#x27;: [2, 3, 4, 5, 6, 10, 12]})</pre><b>In a Jupyter environment, please rerun this cell to show the HTML representation or trust the notebook. <br />On GitHub, the HTML representation is unable to render, please try loading this page with nbviewer.org.</b></div><div class=\"sk-container\" hidden><div class=\"sk-item sk-dashed-wrapped\"><div class=\"sk-label-container\"><div class=\"sk-label sk-toggleable\"><input class=\"sk-toggleable__control sk-hidden--visually\" id=\"sk-estimator-id-6\" type=\"checkbox\" ><label for=\"sk-estimator-id-6\" class=\"sk-toggleable__label sk-toggleable__label-arrow\">GridSearchCV</label><div class=\"sk-toggleable__content\"><pre>GridSearchCV(cv=3,\n",
              "             estimator=Pipeline(steps=[(&#x27;encoding&#x27;,\n",
              "                                        FunctionTransformer(func=&lt;function get_dummies at 0x7f373e1ad6c0&gt;)),\n",
              "                                       (&#x27;scaling&#x27;, StandardScaler()),\n",
              "                                       (&#x27;pca&#x27;, PCA(n_components=2)),\n",
              "                                       (&#x27;model&#x27;,\n",
              "                                        LogisticRegression(solver=&#x27;saga&#x27;))]),\n",
              "             n_jobs=-1,\n",
              "             param_grid={&#x27;model__C&#x27;: [0.001, 0.01, 1, 10, 20],\n",
              "                         &#x27;model__penalty&#x27;: [&#x27;l1&#x27;, &#x27;l2&#x27;],\n",
              "                         &#x27;pca__n_components&#x27;: [2, 3, 4, 5, 6, 10, 12]})</pre></div></div></div><div class=\"sk-parallel\"><div class=\"sk-parallel-item\"><div class=\"sk-item\"><div class=\"sk-label-container\"><div class=\"sk-label sk-toggleable\"><input class=\"sk-toggleable__control sk-hidden--visually\" id=\"sk-estimator-id-7\" type=\"checkbox\" ><label for=\"sk-estimator-id-7\" class=\"sk-toggleable__label sk-toggleable__label-arrow\">estimator: Pipeline</label><div class=\"sk-toggleable__content\"><pre>Pipeline(steps=[(&#x27;encoding&#x27;,\n",
              "                 FunctionTransformer(func=&lt;function get_dummies at 0x7f373e1ad6c0&gt;)),\n",
              "                (&#x27;scaling&#x27;, StandardScaler()), (&#x27;pca&#x27;, PCA(n_components=2)),\n",
              "                (&#x27;model&#x27;, LogisticRegression(solver=&#x27;saga&#x27;))])</pre></div></div></div><div class=\"sk-serial\"><div class=\"sk-item\"><div class=\"sk-serial\"><div class=\"sk-item\"><div class=\"sk-estimator sk-toggleable\"><input class=\"sk-toggleable__control sk-hidden--visually\" id=\"sk-estimator-id-8\" type=\"checkbox\" ><label for=\"sk-estimator-id-8\" class=\"sk-toggleable__label sk-toggleable__label-arrow\">FunctionTransformer</label><div class=\"sk-toggleable__content\"><pre>FunctionTransformer(func=&lt;function get_dummies at 0x7f373e1ad6c0&gt;)</pre></div></div></div><div class=\"sk-item\"><div class=\"sk-estimator sk-toggleable\"><input class=\"sk-toggleable__control sk-hidden--visually\" id=\"sk-estimator-id-9\" type=\"checkbox\" ><label for=\"sk-estimator-id-9\" class=\"sk-toggleable__label sk-toggleable__label-arrow\">StandardScaler</label><div class=\"sk-toggleable__content\"><pre>StandardScaler()</pre></div></div></div><div class=\"sk-item\"><div class=\"sk-estimator sk-toggleable\"><input class=\"sk-toggleable__control sk-hidden--visually\" id=\"sk-estimator-id-10\" type=\"checkbox\" ><label for=\"sk-estimator-id-10\" class=\"sk-toggleable__label sk-toggleable__label-arrow\">PCA</label><div class=\"sk-toggleable__content\"><pre>PCA(n_components=2)</pre></div></div></div><div class=\"sk-item\"><div class=\"sk-estimator sk-toggleable\"><input class=\"sk-toggleable__control sk-hidden--visually\" id=\"sk-estimator-id-11\" type=\"checkbox\" ><label for=\"sk-estimator-id-11\" class=\"sk-toggleable__label sk-toggleable__label-arrow\">LogisticRegression</label><div class=\"sk-toggleable__content\"><pre>LogisticRegression(solver=&#x27;saga&#x27;)</pre></div></div></div></div></div></div></div></div></div></div></div></div>"
            ]
          },
          "metadata": {},
          "execution_count": 36
        }
      ]
    },
    {
      "cell_type": "code",
      "source": [
        "grid_model.best_params_"
      ],
      "metadata": {
        "colab": {
          "base_uri": "https://localhost:8080/"
        },
        "id": "qHFK-kYVMDYh",
        "outputId": "d057a04d-6288-4e37-8fe2-f6fc96f26d9e"
      },
      "execution_count": 37,
      "outputs": [
        {
          "output_type": "execute_result",
          "data": {
            "text/plain": [
              "{'model__C': 1, 'model__penalty': 'l1', 'pca__n_components': 12}"
            ]
          },
          "metadata": {},
          "execution_count": 37
        }
      ]
    },
    {
      "cell_type": "code",
      "source": [
        "grid_model.best_score_"
      ],
      "metadata": {
        "colab": {
          "base_uri": "https://localhost:8080/"
        },
        "id": "3GgJ44OJO_qU",
        "outputId": "0be840d3-ea9a-430a-b8e2-bf2a9e6e75aa"
      },
      "execution_count": 38,
      "outputs": [
        {
          "output_type": "execute_result",
          "data": {
            "text/plain": [
              "0.9239279661471613"
            ]
          },
          "metadata": {},
          "execution_count": 38
        }
      ]
    },
    {
      "cell_type": "markdown",
      "source": [
        "### Evaluate the optimized model"
      ],
      "metadata": {
        "id": "J4R-_GSSRbiu"
      }
    },
    {
      "cell_type": "code",
      "source": [
        "preds_grid = grid_model.best_estimator_.predict(x_test)\n",
        "\n",
        "conf_matrics = metrics.confusion_matrix(preds_grid, y_test)\n",
        "metrics.ConfusionMatrixDisplay(conf_matrics).plot()\n",
        "plt.show()"
      ],
      "metadata": {
        "colab": {
          "base_uri": "https://localhost:8080/",
          "height": 449
        },
        "id": "XA_prA7TRgSq",
        "outputId": "d1093079-6234-4581-a65b-c7d5f6392088"
      },
      "execution_count": 39,
      "outputs": [
        {
          "output_type": "display_data",
          "data": {
            "text/plain": [
              "<Figure size 640x480 with 2 Axes>"
            ],
            "image/png": "[encoded data removed]"
          },
          "metadata": {}
        }
      ]
    },
    {
      "cell_type": "code",
      "source": [
        "print(metrics.classification_report(preds_grid, y_test))"
      ],
      "metadata": {
        "colab": {
          "base_uri": "https://localhost:8080/"
        },
        "id": "8cP2kpm8RvY9",
        "outputId": "02d02e58-ee99-4616-f078-988b46dc7db6"
      },
      "execution_count": 40,
      "outputs": [
        {
          "output_type": "stream",
          "name": "stdout",
          "text": [
            "              precision    recall  f1-score   support\n",
            "\n",
            "           0       0.93      0.92      0.93       411\n",
            "           1       0.92      0.93      0.92       405\n",
            "\n",
            "    accuracy                           0.93       816\n",
            "   macro avg       0.93      0.93      0.93       816\n",
            "weighted avg       0.93      0.93      0.93       816\n",
            "\n"
          ]
        }
      ]
    }
  ]
}